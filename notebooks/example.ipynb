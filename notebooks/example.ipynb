{
 "cells": [
  {
   "cell_type": "code",
   "execution_count": 1,
   "metadata": {},
   "outputs": [],
   "source": [
    "import ipywidgets as ipyw\n",
    "import awitree as awit\n",
    "import typing as t\n",
    "import logging\n",
    "\n",
    "def _log():\n",
    "    return logging.getLogger(__name__)"
   ]
  },
  {
   "attachments": {
    "0e5db0ee-8526-490a-b6c2-53ea3c056490.png": {
     "image/png": "[encoded data removed]"
    }
   },
   "cell_type": "markdown",
   "metadata": {},
   "source": [
    "## Simple Interface to jstree with AnyWidget\n",
    "`awitree` provides a AnyWidget interface to `jsTree` a jquery plugin, that buids interactive trees in browser.\n",
    "\n",
    "To create a tree, a python dictionary is provided to the constructor with the expected format specified for jstree given [here](https://www.jstree.com/docs/json/).\n",
    "```python\n",
    "# Expected format of the node (there are no required fields)\n",
    "{\n",
    "  id          : \"string\" # will be autogenerated if omitted\n",
    "  text        : \"string\" # node text\n",
    "  icon        : \"string\" # string for custom\n",
    "  state       : {\n",
    "    opened    : bool  # is the node open\n",
    "    disabled  : bool  # is the node disabled\n",
    "    selected  : bool  # is the node selected\n",
    "  },\n",
    "  children    : []  # array of strings or objects\n",
    "  li_attr     : {}  # attributes for the generated LI node\n",
    "  a_attr      : {}  # attributes for the generated A node\n",
    "}\n",
    "```\n",
    "\n",
    "This python dictionary is passed to the javascript as a JSON object, which is then rendered by jstree.\n",
    "\n",
    "When the next cell is run, it should render a tree view as below::\n",
    "\n",
    "![image.png](attachment:0e5db0ee-8526-490a-b6c2-53ea3c056490.png)\n"
   ]
  },
  {
   "cell_type": "code",
   "execution_count": 2,
   "metadata": {},
   "outputs": [
    {
     "data": {
      "application/vnd.jupyter.widget-view+json": {
       "model_id": "26abd81ca6864ad098e136961518de9f",
       "version_major": 2,
       "version_minor": 1
      },
      "text/plain": [
       "Tree(data={'id': '0', 'text': 'Main Root', 'state': {'open': True}, 'children': [{'id': '1', 'text': 'Sub Node…"
      ]
     },
     "execution_count": 2,
     "metadata": {},
     "output_type": "execute_result"
    }
   ],
   "source": [
    "tree_data = {\n",
    "    \"id\": \"0\",\n",
    "    \"text\":\"Main Root\",\n",
    "    \"state\": {\"open\" : True},\n",
    "    \"children\" : [\n",
    "        {\"id\": \"1\", \"text\" : \"Sub Node 1\", \"children\":[]},\n",
    "        {\"id\": \"2\", \"text\" : \"Sub Node 2\", \"children\":[]},\n",
    "        {\"id\": \"3\", \"text\" : \"Sub Node 3\", \"children\":[]},\n",
    "    ]\n",
    "}\n",
    "\n",
    "rtree = awit.Tree(data=tree_data)\n",
    "rtree"
   ]
  },
  {
   "attachments": {
    "d7105202-8fe4-4625-bf59-7fb42182baf5.png": {
     "image/png": "[encoded data removed]"
    }
   },
   "cell_type": "markdown",
   "metadata": {},
   "source": [
    "## Explorer view with `selected_nodes` trait\n",
    "`awitree.Tree` has a `selected_nodes` trait which keeps track of the selected nodes via the `traitlets` library. Using a dictionary of panels, an explorer-like User Interface can be accomplished as shown in the next cell.\n",
    "\n",
    " When the next cell is run, it should appear as below:: \n",
    " \n",
    " ![image.png](attachment:d7105202-8fe4-4625-bf59-7fb42182baf5.png)"
   ]
  },
  {
   "cell_type": "code",
   "execution_count": 3,
   "metadata": {},
   "outputs": [
    {
     "data": {
      "application/vnd.jupyter.widget-view+json": {
       "model_id": "7f56ab9993a84caabf337a29f250a4b8",
       "version_major": 2,
       "version_minor": 0
      },
      "text/plain": [
       "TwoByTwoLayout(children=(Tree(data={'id': '0', 'text': 'Main Root', 'state': {'open': True}, 'children': [{'id…"
      ]
     },
     "execution_count": 3,
     "metadata": {},
     "output_type": "execute_result"
    }
   ],
   "source": [
    "@t.final\n",
    "class ExplorerTree:\n",
    "    def __init__(self, data):\n",
    "        self.panel_dict = {\n",
    "            \"0\":  ipyw.VBox([\n",
    "                ipyw.Text(description=\"A\"),\n",
    "                ipyw.Textarea(description=\"B\")\n",
    "            ]),\n",
    "            \"1\":  ipyw.VBox([\n",
    "                ipyw.Text(description=\"C\"),\n",
    "                ipyw.Textarea(description=\"D\")\n",
    "            ]),\n",
    "            \"2\":  ipyw.VBox([\n",
    "                ipyw.Text(description=\"E\"),\n",
    "                ipyw.Textarea(description=\"F\")\n",
    "            ]),\n",
    "            \"3\":  ipyw.VBox([\n",
    "                ipyw.Text(description=\"G\"),\n",
    "                ipyw.Textarea(description=\"H\")\n",
    "            ]),\n",
    "        }\n",
    "        self.tree = awit.Tree(data=data)\n",
    "        self.layout = ipyw.TwoByTwoLayout(top_left=self.tree, bottom_right=None)\n",
    "        self.tree.observe(self.tree_update, names=\"selected_nodes\")\n",
    "\n",
    "    def tree_update(self, change: dict[str, t.Any]):\n",
    "        new_val = change[\"new\"]\n",
    "        if not len(new_val):\n",
    "            return\n",
    "        selected_nodes: list[dict[str, t.Any]] = new_val\n",
    "        _log().warning(\n",
    "            \"Tree Update selected_nodes : [%s %s]\",\n",
    "            str(change),\n",
    "            str(selected_nodes)\n",
    "        )\n",
    "        selected_id: str = selected_nodes[0][\"id\"]\n",
    "        _log().warning(\n",
    "            \"Tree Update ID : [%s]\",\n",
    "            selected_id,\n",
    "        )\n",
    "        if selected_id in self.panel_dict:\n",
    "            side_panel = self.panel_dict[selected_id]\n",
    "            self.layout.bottom_right = side_panel\n",
    "\n",
    "#\n",
    "extree = ExplorerTree(tree_data)\n",
    "extree.layout"
   ]
  }
 ],
 "metadata": {
  "kernelspec": {
   "display_name": "Python 3 (ipykernel)",
   "language": "python",
   "name": "python3"
  },
  "language_info": {
   "codemirror_mode": {
    "name": "ipython",
    "version": 3
   },
   "file_extension": ".py",
   "mimetype": "text/x-python",
   "name": "python",
   "nbconvert_exporter": "python",
   "pygments_lexer": "ipython3",
   "version": "3.10.16"
  }
 },
 "nbformat": 4,
 "nbformat_minor": 4
}
