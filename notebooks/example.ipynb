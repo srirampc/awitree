{
 "cells": [
  {
   "cell_type": "code",
   "execution_count": 1,
   "metadata": {},
   "outputs": [
    {
     "name": "stdout",
     "output_type": "stream",
     "text": [
      "env: ANYWIDGET_HMR=1\n"
     ]
    }
   ],
   "source": [
    "%load_ext autoreload\n",
    "%autoreload 2\n",
    "%env ANYWIDGET_HMR=1"
   ]
  },
  {
   "cell_type": "code",
   "execution_count": 44,
   "metadata": {},
   "outputs": [],
   "source": [
    "from awitree import Tree"
   ]
  },
  {
   "cell_type": "code",
   "execution_count": 48,
   "metadata": {},
   "outputs": [
    {
     "data": {
      "application/vnd.jupyter.widget-view+json": {
       "model_id": "c4ea96dc1508432885cd10e67239b673",
       "version_major": 2,
       "version_minor": 1
      },
      "text/plain": [
       "Tree(tdata={'id': '0', 'text': 'Main Root', 'state': {'open': True}, 'children': [{'id': '1', 'text': 'Sub Nod…"
      ]
     },
     "execution_count": 48,
     "metadata": {},
     "output_type": "execute_result"
    }
   ],
   "source": [
    "Tree(tdata={\n",
    "    \"id\": \"0\",\n",
    "    \"text\":\"Main Root\",\n",
    "    \"state\": {\"open\" : True},\n",
    "    \"children\" : [\n",
    "    {\"id\": \"1\", \"text\" : \"Sub Node 1\", \"children\":[]},\n",
    "    {\"id\": \"3\", \"text\" : \"Sub Node 2\", \"children\":[]},    \n",
    "]})\n",
    "\n"
   ]
  },
  {
   "cell_type": "code",
   "execution_count": null,
   "metadata": {},
   "outputs": [],
   "source": []
  }
 ],
 "metadata": {
  "kernelspec": {
   "display_name": "Python 3 (ipykernel)",
   "language": "python",
   "name": "python3"
  },
  "language_info": {
   "codemirror_mode": {
    "name": "ipython",
    "version": 3
   },
   "file_extension": ".py",
   "mimetype": "text/x-python",
   "name": "python",
   "nbconvert_exporter": "python",
   "pygments_lexer": "ipython3",
   "version": "3.10.16"
  }
 },
 "nbformat": 4,
 "nbformat_minor": 4
}
