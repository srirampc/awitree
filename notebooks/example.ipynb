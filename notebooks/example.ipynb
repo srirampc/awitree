{
 "cells": [
  {
   "cell_type": "code",
   "execution_count": 1,
   "metadata": {},
   "outputs": [
    {
     "name": "stdout",
     "output_type": "stream",
     "text": [
      "env: ANYWIDGET_HMR=1\n"
     ]
    }
   ],
   "source": [
    "%load_ext autoreload\n",
    "%autoreload 2\n",
    "%env ANYWIDGET_HMR=1"
   ]
  },
  {
   "cell_type": "code",
   "execution_count": 2,
   "metadata": {},
   "outputs": [],
   "source": [
    "from awitree import Tree"
   ]
  },
  {
   "cell_type": "code",
   "execution_count": 7,
   "metadata": {},
   "outputs": [
    {
     "data": {
      "application/vnd.jupyter.widget-view+json": {
       "model_id": "f34ab6ddd3f04f828ae545126684df59",
       "version_major": 2,
       "version_minor": 1
      },
      "text/plain": [
       "Tree(tdata={'id': '0', 'text': 'Main Root', 'state': {'open': True}, 'children': [{'id': '1', 'text': 'Sub Nod…"
      ]
     },
     "execution_count": 7,
     "metadata": {},
     "output_type": "execute_result"
    }
   ],
   "source": [
    "rtree = Tree(tdata={\n",
    "    \"id\": \"0\",\n",
    "    \"text\":\"Main Root\",\n",
    "    \"state\": {\"open\" : True},\n",
    "    \"children\" : [\n",
    "    {\"id\": \"1\", \"text\" : \"Sub Node 1\", \"children\":[]},\n",
    "    {\"id\": \"3\", \"text\" : \"Sub Node 2\", \"children\":[]},    \n",
    "]})\n",
    "\n",
    "rtree"
   ]
  },
  {
   "cell_type": "code",
   "execution_count": 8,
   "metadata": {
    "scrolled": true
   },
   "outputs": [
    {
     "data": {
      "text/plain": [
       "[{'id': '1',\n",
       "  'text': 'Sub Node 1',\n",
       "  'icon': True,\n",
       "  'parent': '0',\n",
       "  'parents': ['0', '#'],\n",
       "  'children': [],\n",
       "  'children_d': [],\n",
       "  'data': None,\n",
       "  'state': {'loaded': True,\n",
       "   'opened': False,\n",
       "   'selected': True,\n",
       "   'disabled': False},\n",
       "  'li_attr': {'id': '1'},\n",
       "  'a_attr': {'href': '#', 'id': '1_anchor'},\n",
       "  'original': {'id': '1', 'text': 'Sub Node 1'}}]"
      ]
     },
     "execution_count": 8,
     "metadata": {},
     "output_type": "execute_result"
    }
   ],
   "source": [
    "rtree.selected_nodes"
   ]
  },
  {
   "cell_type": "code",
   "execution_count": null,
   "metadata": {},
   "outputs": [],
   "source": []
  }
 ],
 "metadata": {
  "kernelspec": {
   "display_name": "Python 3 (ipykernel)",
   "language": "python",
   "name": "python3"
  },
  "language_info": {
   "codemirror_mode": {
    "name": "ipython",
    "version": 3
   },
   "file_extension": ".py",
   "mimetype": "text/x-python",
   "name": "python",
   "nbconvert_exporter": "python",
   "pygments_lexer": "ipython3",
   "version": "3.13.2"
  }
 },
 "nbformat": 4,
 "nbformat_minor": 4
}
