{
 "cells": [
  {
   "cell_type": "code",
   "execution_count": 1,
   "metadata": {},
   "outputs": [
    {
     "name": "stdout",
     "output_type": "stream",
     "text": [
      "env: ANYWIDGET_HMR=1\n"
     ]
    }
   ],
   "source": [
    "%load_ext autoreload\n",
    "%autoreload 2\n",
    "%env ANYWIDGET_HMR=1"
   ]
  },
  {
   "cell_type": "code",
   "execution_count": 2,
   "metadata": {},
   "outputs": [],
   "source": [
    "from awitree import Tree"
   ]
  },
  {
   "cell_type": "code",
   "execution_count": 19,
   "metadata": {},
   "outputs": [
    {
     "data": {
      "application/vnd.jupyter.widget-view+json": {
       "model_id": "a84aea361b934550a7043b567ab77189",
       "version_major": 2,
       "version_minor": 1
      },
      "text/plain": [
       "Tree(tdata={'id': '0', 'text': 'Main Root', 'state': {'open': True}, 'children': [{'id': '1', 'text': 'Sub Nod…"
      ]
     },
     "execution_count": 19,
     "metadata": {},
     "output_type": "execute_result"
    }
   ],
   "source": [
    "rtree = Tree(tdata={\n",
    "    \"id\": \"0\",\n",
    "    \"text\":\"Main Root\",\n",
    "    \"state\": {\"open\" : True},\n",
    "    \"children\" : [\n",
    "    {\"id\": \"1\", \"text\" : \"Sub Node 1\", \"children\":[]},\n",
    "    {\"id\": \"3\", \"text\" : \"Sub Node 2\", \"children\":[]},    \n",
    "]})\n",
    "\n",
    "rtree"
   ]
  },
  {
   "cell_type": "code",
   "execution_count": 18,
   "metadata": {
    "scrolled": true
   },
   "outputs": [
    {
     "data": {
      "text/plain": [
       "{'id': '3',\n",
       " 'text': 'Sub Node 2',\n",
       " 'icon': True,\n",
       " 'parent': '0',\n",
       " 'parents': ['0', '#'],\n",
       " 'children': [],\n",
       " 'children_d': [],\n",
       " 'data': None,\n",
       " 'state': {'loaded': True,\n",
       "  'opened': False,\n",
       "  'selected': True,\n",
       "  'disabled': False},\n",
       " 'li_attr': {'id': '3'},\n",
       " 'a_attr': {'href': '#', 'id': '3_anchor'},\n",
       " 'original': {'id': '3', 'text': 'Sub Node 2'}}"
      ]
     },
     "execution_count": 18,
     "metadata": {},
     "output_type": "execute_result"
    }
   ],
   "source": [
    "rtree.selected"
   ]
  },
  {
   "cell_type": "code",
   "execution_count": null,
   "metadata": {},
   "outputs": [],
   "source": []
  }
 ],
 "metadata": {
  "kernelspec": {
   "display_name": "Python 3 (ipykernel)",
   "language": "python",
   "name": "python3"
  },
  "language_info": {
   "codemirror_mode": {
    "name": "ipython",
    "version": 3
   },
   "file_extension": ".py",
   "mimetype": "text/x-python",
   "name": "python",
   "nbconvert_exporter": "python",
   "pygments_lexer": "ipython3",
   "version": "3.10.16"
  }
 },
 "nbformat": 4,
 "nbformat_minor": 4
}
